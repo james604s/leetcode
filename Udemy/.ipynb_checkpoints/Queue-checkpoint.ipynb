{
 "cells": [
  {
   "cell_type": "markdown",
   "id": "391a43d2-b997-493a-ab12-2316577dbd40",
   "metadata": {},
   "source": [
    "## QUEUE"
   ]
  },
  {
   "cell_type": "code",
   "execution_count": 1,
   "id": "ae165cd0-cc3b-4852-97a7-db58f6529e31",
   "metadata": {},
   "outputs": [],
   "source": [
    "# First in First Out"
   ]
  },
  {
   "cell_type": "code",
   "execution_count": 2,
   "id": "2bdba77d-5ac3-4b4b-aefe-f992a54a7d4a",
   "metadata": {},
   "outputs": [],
   "source": [
    "class Queue(object):\n",
    "    def __init__(self):\n",
    "        self.items = []\n",
    "    \n",
    "    def isEmpty(self):\n",
    "        return self.items == []\n",
    "    \n",
    "    def enqueue(self, item):\n",
    "        self.items.insert(0, item)\n",
    "        \n",
    "    def dequeue(self):\n",
    "        return self.items.pop()\n",
    "    \n",
    "    def size(self):\n",
    "        return len(self.items)\n"
   ]
  },
  {
   "cell_type": "code",
   "execution_count": 3,
   "id": "9f011289-d84d-4bef-8f75-97875bafb261",
   "metadata": {},
   "outputs": [],
   "source": [
    "q = Queue()"
   ]
  },
  {
   "cell_type": "code",
   "execution_count": 4,
   "id": "a5506b83-2c9e-4c72-8f0a-cb05aafc57a6",
   "metadata": {},
   "outputs": [
    {
     "data": {
      "text/plain": [
       "0"
      ]
     },
     "execution_count": 4,
     "metadata": {},
     "output_type": "execute_result"
    }
   ],
   "source": [
    "q.size()"
   ]
  },
  {
   "cell_type": "code",
   "execution_count": 5,
   "id": "55124487-eca5-4733-8e41-b72308ddb391",
   "metadata": {},
   "outputs": [
    {
     "data": {
      "text/plain": [
       "True"
      ]
     },
     "execution_count": 5,
     "metadata": {},
     "output_type": "execute_result"
    }
   ],
   "source": [
    "q.isEmpty()"
   ]
  },
  {
   "cell_type": "code",
   "execution_count": 6,
   "id": "5dd1f845-df3e-49dd-956b-fc9b6f9f26b2",
   "metadata": {},
   "outputs": [],
   "source": [
    "q.enqueue(1)"
   ]
  },
  {
   "cell_type": "code",
   "execution_count": 7,
   "id": "c538b93e-292d-4b3f-b8d0-1d2fcdb906cc",
   "metadata": {},
   "outputs": [],
   "source": [
    "q.enqueue(2)"
   ]
  },
  {
   "cell_type": "code",
   "execution_count": 9,
   "id": "776b28cb-5cf0-46d8-96e9-39db8527e0da",
   "metadata": {},
   "outputs": [
    {
     "data": {
      "text/plain": [
       "2"
      ]
     },
     "execution_count": 9,
     "metadata": {},
     "output_type": "execute_result"
    }
   ],
   "source": [
    "q.dequeue()"
   ]
  },
  {
   "cell_type": "code",
   "execution_count": null,
   "id": "ee6675b8-7ca9-412a-a19f-1cc19bade4fb",
   "metadata": {},
   "outputs": [],
   "source": []
  }
 ],
 "metadata": {
  "kernelspec": {
   "display_name": "Python 3",
   "language": "python",
   "name": "python3"
  },
  "language_info": {
   "codemirror_mode": {
    "name": "ipython",
    "version": 3
   },
   "file_extension": ".py",
   "mimetype": "text/x-python",
   "name": "python",
   "nbconvert_exporter": "python",
   "pygments_lexer": "ipython3",
   "version": "3.9.5"
  }
 },
 "nbformat": 4,
 "nbformat_minor": 5
}
