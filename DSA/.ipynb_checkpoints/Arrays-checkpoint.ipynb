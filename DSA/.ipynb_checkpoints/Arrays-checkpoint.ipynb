{
 "cells": [
  {
   "cell_type": "markdown",
   "id": "08ac3797-7303-43f1-8357-6dda10798f3a",
   "metadata": {},
   "source": [
    "## DynamicArrays"
   ]
  },
  {
   "cell_type": "code",
   "execution_count": 3,
   "id": "c7762dc8-3d39-4119-8796-1fb62d59c46b",
   "metadata": {
    "tags": []
   },
   "outputs": [
    {
     "name": "stdout",
     "output_type": "stream",
     "text": [
      "Length:   0; Size in bytes:   56\n",
      "Length:   1; Size in bytes:   88\n",
      "Length:   2; Size in bytes:   88\n",
      "Length:   3; Size in bytes:   88\n",
      "Length:   4; Size in bytes:   88\n",
      "Length:   5; Size in bytes:  120\n",
      "Length:   6; Size in bytes:  120\n",
      "Length:   7; Size in bytes:  120\n",
      "Length:   8; Size in bytes:  120\n",
      "Length:   9; Size in bytes:  184\n",
      "Length:  10; Size in bytes:  184\n",
      "Length:  11; Size in bytes:  184\n",
      "Length:  12; Size in bytes:  184\n",
      "Length:  13; Size in bytes:  184\n",
      "Length:  14; Size in bytes:  184\n",
      "Length:  15; Size in bytes:  184\n",
      "Length:  16; Size in bytes:  184\n",
      "Length:  17; Size in bytes:  248\n",
      "Length:  18; Size in bytes:  248\n",
      "Length:  19; Size in bytes:  248\n",
      "Length:  20; Size in bytes:  248\n",
      "Length:  21; Size in bytes:  248\n",
      "Length:  22; Size in bytes:  248\n",
      "Length:  23; Size in bytes:  248\n",
      "Length:  24; Size in bytes:  248\n",
      "Length:  25; Size in bytes:  312\n",
      "Length:  26; Size in bytes:  312\n",
      "Length:  27; Size in bytes:  312\n",
      "Length:  28; Size in bytes:  312\n",
      "Length:  29; Size in bytes:  312\n",
      "Length:  30; Size in bytes:  312\n",
      "Length:  31; Size in bytes:  312\n",
      "Length:  32; Size in bytes:  312\n",
      "Length:  33; Size in bytes:  376\n",
      "Length:  34; Size in bytes:  376\n",
      "Length:  35; Size in bytes:  376\n",
      "Length:  36; Size in bytes:  376\n",
      "Length:  37; Size in bytes:  376\n",
      "Length:  38; Size in bytes:  376\n",
      "Length:  39; Size in bytes:  376\n",
      "Length:  40; Size in bytes:  376\n",
      "Length:  41; Size in bytes:  472\n",
      "Length:  42; Size in bytes:  472\n",
      "Length:  43; Size in bytes:  472\n",
      "Length:  44; Size in bytes:  472\n",
      "Length:  45; Size in bytes:  472\n",
      "Length:  46; Size in bytes:  472\n",
      "Length:  47; Size in bytes:  472\n",
      "Length:  48; Size in bytes:  472\n",
      "Length:  49; Size in bytes:  472\n"
     ]
    }
   ],
   "source": [
    "import sys\n",
    "\n",
    "# Set n\n",
    "n = 50\n",
    "data =[]\n",
    "for i in range(n):\n",
    "    #Number of elements\n",
    "    a = len(data)\n",
    "    \n",
    "    #Actual Size in Bytes\n",
    "    b = sys.getsizeof(data)\n",
    "    \n",
    "    print(\"Length: {0:3d}; Size in bytes: {1:4d}\".format(a, b))\n",
    "    \n",
    "    # increase Length by one\n",
    "    data.append(n)"
   ]
  },
  {
   "cell_type": "markdown",
   "id": "c6a584da-a814-4704-b08a-d328d34ff71a",
   "metadata": {},
   "source": [
    "class M(object):b"
   ]
  },
  {
   "cell_type": "markdown",
   "id": "ad9f7acc-2984-48df-9c84-c817cb4c7ba2",
   "metadata": {},
   "source": [
    "## Dynamic Array Implementation"
   ]
  },
  {
   "cell_type": "code",
   "execution_count": 4,
   "id": "248bb532-4a58-4ebe-a336-015c15748038",
   "metadata": {},
   "outputs": [],
   "source": [
    "class M(object):\n",
    "    def public(self):\n",
    "        print(\"Use Tab to see me!\")\n",
    "    \n",
    "    def _private(self):\n",
    "        print(\"You won't be able to Tab to see me!\")"
   ]
  },
  {
   "cell_type": "code",
   "execution_count": 5,
   "id": "0badd329-1343-4b1a-960e-0df1943896fc",
   "metadata": {},
   "outputs": [],
   "source": [
    "m = M()"
   ]
  },
  {
   "cell_type": "code",
   "execution_count": 6,
   "id": "022ac521-9924-44cf-97fa-f9ddf2f697f8",
   "metadata": {},
   "outputs": [
    {
     "name": "stdout",
     "output_type": "stream",
     "text": [
      "You won't be able to Tab to see me!\n"
     ]
    }
   ],
   "source": [
    "m._private()"
   ]
  },
  {
   "cell_type": "code",
   "execution_count": 7,
   "id": "c73bcb0e-782e-4a49-813f-1ee482f2eaac",
   "metadata": {},
   "outputs": [
    {
     "name": "stdout",
     "output_type": "stream",
     "text": [
      "Use Tab to see me!\n"
     ]
    }
   ],
   "source": [
    "m.public()"
   ]
  },
  {
   "cell_type": "code",
   "execution_count": 11,
   "id": "b7daf424-9864-46d2-893a-c0d77aed8dd1",
   "metadata": {},
   "outputs": [],
   "source": [
    "import ctypes\n",
    "\n",
    "class DynamicArray(object):\n",
    "    def __init__(self):\n",
    "        self.n = 0\n",
    "        self.capacity = 1\n",
    "        self.A = self.make_array(self.capacity)\n",
    "        \n",
    "    def __len__(self):\n",
    "        return self.n\n",
    "    \n",
    "    def __getitem__(self, k):\n",
    "        \n",
    "        if not 0 <= k < self.n:\n",
    "            return IndexError(\"K is out of bounds!\")\n",
    "    \n",
    "        return self.A[k]\n",
    "    \n",
    "    def append(self, ele):\n",
    "        if self.n == self.capacity:\n",
    "            self._resize(2*self.capacity) #2x if capcity isn't enough\n",
    "        \n",
    "        self.A[self.n] = ele\n",
    "        self.n += 1\n",
    "    \n",
    "    def _resize(self, new_cap):\n",
    "        B = self.make_array(new_cap)\n",
    "        for k in range(self.n):\n",
    "            B[k] = self.A[k]\n",
    "        \n",
    "        self.A = B\n",
    "        self.capacity = new_cap\n",
    "    \n",
    "    def make_array(self, new_cap):\n",
    "        return (new_cap * ctypes.py_object)()"
   ]
  },
  {
   "cell_type": "code",
   "execution_count": 12,
   "id": "679d6fd9-7f59-489e-b565-0ba07c79cb09",
   "metadata": {},
   "outputs": [],
   "source": [
    "arr = DynamicArray()"
   ]
  },
  {
   "cell_type": "code",
   "execution_count": 13,
   "id": "97e5d8f4-12b4-44b8-b118-b8704a15205f",
   "metadata": {},
   "outputs": [],
   "source": [
    "arr.append(1)"
   ]
  },
  {
   "cell_type": "code",
   "execution_count": 14,
   "id": "277f1258-eda4-4fcd-9d36-3fb79cf8ad50",
   "metadata": {},
   "outputs": [
    {
     "data": {
      "text/plain": [
       "1"
      ]
     },
     "execution_count": 14,
     "metadata": {},
     "output_type": "execute_result"
    }
   ],
   "source": [
    "len(arr)"
   ]
  },
  {
   "cell_type": "code",
   "execution_count": 15,
   "id": "614f9dc4-01f6-48af-8d5c-0f17a312aecc",
   "metadata": {},
   "outputs": [],
   "source": [
    "arr.append(2)"
   ]
  },
  {
   "cell_type": "code",
   "execution_count": 16,
   "id": "5e081dcc-401f-4526-8a6a-d5f2d0e09bbe",
   "metadata": {},
   "outputs": [
    {
     "data": {
      "text/plain": [
       "2"
      ]
     },
     "execution_count": 16,
     "metadata": {},
     "output_type": "execute_result"
    }
   ],
   "source": [
    "len(arr)"
   ]
  },
  {
   "cell_type": "code",
   "execution_count": 17,
   "id": "7d951df8-ce2b-413c-8266-bdc9c2bd25ca",
   "metadata": {},
   "outputs": [
    {
     "data": {
      "text/plain": [
       "1"
      ]
     },
     "execution_count": 17,
     "metadata": {},
     "output_type": "execute_result"
    }
   ],
   "source": [
    "arr[0]"
   ]
  },
  {
   "cell_type": "code",
   "execution_count": 18,
   "id": "30b7d335-6ea5-4cc8-9cde-8cc7985741dc",
   "metadata": {},
   "outputs": [
    {
     "data": {
      "text/plain": [
       "2"
      ]
     },
     "execution_count": 18,
     "metadata": {},
     "output_type": "execute_result"
    }
   ],
   "source": [
    "arr[1]"
   ]
  },
  {
   "cell_type": "code",
   "execution_count": null,
   "id": "1f110744-d1b9-4412-aceb-63d81225a6b7",
   "metadata": {},
   "outputs": [],
   "source": []
  }
 ],
 "metadata": {
  "kernelspec": {
   "display_name": "Python 3",
   "language": "python",
   "name": "python3"
  },
  "language_info": {
   "codemirror_mode": {
    "name": "ipython",
    "version": 3
   },
   "file_extension": ".py",
   "mimetype": "text/x-python",
   "name": "python",
   "nbconvert_exporter": "python",
   "pygments_lexer": "ipython3",
   "version": "3.9.5"
  }
 },
 "nbformat": 4,
 "nbformat_minor": 5
}
