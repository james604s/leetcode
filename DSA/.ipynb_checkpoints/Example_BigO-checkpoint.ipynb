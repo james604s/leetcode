{
 "cells": [
  {
   "cell_type": "markdown",
   "id": "c3be5624-edc0-4701-823c-0ba16f72eec0",
   "metadata": {},
   "source": [
    "## O(1)Constant"
   ]
  },
  {
   "cell_type": "code",
   "execution_count": 1,
   "id": "f4117dbd-4d4a-4fc8-8c46-344aa2b53e65",
   "metadata": {},
   "outputs": [],
   "source": [
    "def func_constant(values):\n",
    "    print(values[0])\n",
    "    \n"
   ]
  },
  {
   "cell_type": "code",
   "execution_count": 5,
   "id": "c536ee67-10b1-4108-8f7d-e987b2421331",
   "metadata": {},
   "outputs": [
    {
     "name": "stdout",
     "output_type": "stream",
     "text": [
      "1\n"
     ]
    }
   ],
   "source": [
    "lst = [1, 2, 3, 4, 5, 6]\n",
    "func_constant(lst)"
   ]
  },
  {
   "cell_type": "markdown",
   "id": "28385f4f-49ba-4fb3-bd39-d445d2f1b37c",
   "metadata": {},
   "source": [
    "## O(n) Linear"
   ]
  },
  {
   "cell_type": "code",
   "execution_count": 6,
   "id": "9476de55-0758-429f-9685-4a366b7e9759",
   "metadata": {},
   "outputs": [],
   "source": [
    "def func_lin(lst):\n",
    "    for val in lst:\n",
    "        print(val)\n",
    "        \n"
   ]
  },
  {
   "cell_type": "code",
   "execution_count": 7,
   "id": "4469da09-b5aa-4eda-be7e-b5b3adcc86a1",
   "metadata": {},
   "outputs": [
    {
     "name": "stdout",
     "output_type": "stream",
     "text": [
      "1\n",
      "2\n",
      "3\n",
      "4\n",
      "5\n",
      "6\n"
     ]
    }
   ],
   "source": [
    "func_lin(lst)"
   ]
  },
  {
   "cell_type": "markdown",
   "id": "299de129-827e-4406-8539-82a6ba07cb6f",
   "metadata": {},
   "source": [
    "## O(n^2) Quadratic"
   ]
  },
  {
   "cell_type": "code",
   "execution_count": 8,
   "id": "c885feee-e177-42ea-8800-1edc5ba3198c",
   "metadata": {},
   "outputs": [],
   "source": [
    "def func_quad(lst):\n",
    "    for item_1 in lst:\n",
    "        for item_2 in lst:\n",
    "            print(item_1, item_2)"
   ]
  },
  {
   "cell_type": "code",
   "execution_count": 9,
   "id": "5fdb7f4c-ef93-4a8b-b14f-b5b747577e49",
   "metadata": {},
   "outputs": [
    {
     "name": "stdout",
     "output_type": "stream",
     "text": [
      "1 1\n",
      "1 2\n",
      "1 3\n",
      "1 4\n",
      "1 5\n",
      "1 6\n",
      "2 1\n",
      "2 2\n",
      "2 3\n",
      "2 4\n",
      "2 5\n",
      "2 6\n",
      "3 1\n",
      "3 2\n",
      "3 3\n",
      "3 4\n",
      "3 5\n",
      "3 6\n",
      "4 1\n",
      "4 2\n",
      "4 3\n",
      "4 4\n",
      "4 5\n",
      "4 6\n",
      "5 1\n",
      "5 2\n",
      "5 3\n",
      "5 4\n",
      "5 5\n",
      "5 6\n",
      "6 1\n",
      "6 2\n",
      "6 3\n",
      "6 4\n",
      "6 5\n",
      "6 6\n"
     ]
    }
   ],
   "source": [
    "func_quad(lst)"
   ]
  },
  {
   "cell_type": "code",
   "execution_count": 10,
   "id": "2e2467f3-0623-4e36-8f23-19f633e719b1",
   "metadata": {},
   "outputs": [],
   "source": [
    "#O(n)\n",
    "def print_once(lst):\n",
    "    for val in lst:\n",
    "        print(val)"
   ]
  },
  {
   "cell_type": "code",
   "execution_count": 11,
   "id": "a03fdafe-5cd2-4794-9415-cd8527b66808",
   "metadata": {},
   "outputs": [
    {
     "name": "stdout",
     "output_type": "stream",
     "text": [
      "1\n",
      "2\n",
      "3\n",
      "4\n",
      "5\n",
      "6\n"
     ]
    }
   ],
   "source": [
    "print_once(lst)"
   ]
  },
  {
   "cell_type": "code",
   "execution_count": 12,
   "id": "61d1366b-c037-48e4-bdce-100cd85f833a",
   "metadata": {},
   "outputs": [],
   "source": [
    "#O(n)\n",
    "def print_2(lst):\n",
    "    for val in lst:\n",
    "        print(val)\n",
    "    for val in lst:\n",
    "        print(val)"
   ]
  },
  {
   "cell_type": "code",
   "execution_count": 13,
   "id": "66b092b0-d003-44be-b670-ec2da08648c7",
   "metadata": {},
   "outputs": [
    {
     "name": "stdout",
     "output_type": "stream",
     "text": [
      "1\n",
      "2\n",
      "3\n",
      "4\n",
      "5\n",
      "6\n",
      "1\n",
      "2\n",
      "3\n",
      "4\n",
      "5\n",
      "6\n"
     ]
    }
   ],
   "source": [
    "print_2(lst)"
   ]
  },
  {
   "cell_type": "code",
   "execution_count": 28,
   "id": "8c9cfa75-104e-450a-9cea-e464d6b3228d",
   "metadata": {},
   "outputs": [],
   "source": [
    "def comp(lst):\n",
    "    #O(1)\n",
    "    print(lst[0])\n",
    "    \n",
    "    #O(n/2) ... O(1/2 * n)\n",
    "    midpoint = int(len(lst)/2)\n",
    "    for val in lst[:midpoint]:\n",
    "        print(val)\n",
    "    \n",
    "    #O(10)\n",
    "    for x in range(10):\n",
    "        print(\"hello world\")\n",
    "    \n",
    "#result = O(1 + n/2 + 10)\n",
    "#O(11+2/n)\n",
    "#O(n)"
   ]
  },
  {
   "cell_type": "code",
   "execution_count": 30,
   "id": "5eda47b2-7efd-4549-8f61-46261b902335",
   "metadata": {},
   "outputs": [
    {
     "name": "stdout",
     "output_type": "stream",
     "text": [
      "1\n",
      "1\n",
      "2\n",
      "3\n",
      "4\n",
      "5\n",
      "hello world\n",
      "hello world\n",
      "hello world\n",
      "hello world\n",
      "hello world\n",
      "hello world\n",
      "hello world\n",
      "hello world\n",
      "hello world\n",
      "hello world\n"
     ]
    }
   ],
   "source": [
    "lst = [1,2,3,4,5,6,7,8,9,10]\n",
    "comp(lst)"
   ]
  },
  {
   "cell_type": "code",
   "execution_count": 31,
   "id": "51c9a686-950f-4a5e-a0aa-c860a58691e3",
   "metadata": {},
   "outputs": [],
   "source": [
    "def matcher(lst, match):\n",
    "    for item in lst:\n",
    "        if item == match:\n",
    "            return True\n",
    "    return False"
   ]
  },
  {
   "cell_type": "code",
   "execution_count": 32,
   "id": "172b0408-eb9b-4490-a55e-210c3de95066",
   "metadata": {},
   "outputs": [
    {
     "data": {
      "text/plain": [
       "True"
      ]
     },
     "execution_count": 32,
     "metadata": {},
     "output_type": "execute_result"
    }
   ],
   "source": [
    "#best\n",
    "matcher(lst,1) #O(1)"
   ]
  },
  {
   "cell_type": "code",
   "execution_count": null,
   "id": "c94f02af-9b25-4e8d-a70a-f17977e87d83",
   "metadata": {},
   "outputs": [],
   "source": [
    "#worst for lst all element\n",
    "matcher(lst, 11) # O(n)"
   ]
  },
  {
   "cell_type": "code",
   "execution_count": 33,
   "id": "3d051a0d-859f-4966-8f65-94393d9a2cef",
   "metadata": {},
   "outputs": [],
   "source": [
    "def create_list(n):\n",
    "    new_list = []\n",
    "    for num in range(n):\n",
    "        new_list.append(\"new\")\n",
    "    return new_list"
   ]
  },
  {
   "cell_type": "code",
   "execution_count": 34,
   "id": "44017c79-0567-4bc1-8919-7d889bbd9837",
   "metadata": {},
   "outputs": [
    {
     "data": {
      "text/plain": [
       "['new', 'new', 'new', 'new', 'new']"
      ]
     },
     "execution_count": 34,
     "metadata": {},
     "output_type": "execute_result"
    }
   ],
   "source": [
    "create_list(5)"
   ]
  },
  {
   "cell_type": "code",
   "execution_count": 35,
   "id": "48e23071-d363-4b30-885d-ea1e4ebb8a02",
   "metadata": {},
   "outputs": [],
   "source": [
    "def printer(n):\n",
    "    for x in range(10):       # Time Complexity O(n)\n",
    "        print(\"Hello World!\") #Space Complexity O(1)"
   ]
  },
  {
   "cell_type": "code",
   "execution_count": 36,
   "id": "b6a11e67-caa0-41bf-98bc-f3ceb2b86b27",
   "metadata": {},
   "outputs": [
    {
     "name": "stdout",
     "output_type": "stream",
     "text": [
      "Hello World!\n",
      "Hello World!\n",
      "Hello World!\n",
      "Hello World!\n",
      "Hello World!\n",
      "Hello World!\n",
      "Hello World!\n",
      "Hello World!\n",
      "Hello World!\n",
      "Hello World!\n"
     ]
    }
   ],
   "source": [
    "printer(10)"
   ]
  },
  {
   "cell_type": "markdown",
   "id": "c1351713-cf5a-4561-b633-6177eefdf57e",
   "metadata": {},
   "source": [
    "## Lists"
   ]
  },
  {
   "cell_type": "code",
   "execution_count": 37,
   "id": "b5e4d379-1309-4a6a-a671-fa8f32c71c14",
   "metadata": {},
   "outputs": [],
   "source": [
    "def md1():\n",
    "    l = []\n",
    "    for n in range(10000):\n",
    "        l = l + [n]\n",
    "\n",
    "def md2():\n",
    "    l = []\n",
    "    for n in range(10000):\n",
    "        l.append(n)\n",
    "\n",
    "def md3():\n",
    "    l = [n for n in range(10000)]\n",
    "\n",
    "def md4():\n",
    "    l = list(range(10000))"
   ]
  },
  {
   "cell_type": "code",
   "execution_count": 39,
   "id": "e797fa2b-ed83-44d6-92a7-3db51dac2184",
   "metadata": {},
   "outputs": [
    {
     "ename": "ModuleNotFoundError",
     "evalue": "No module named 'itemit'",
     "output_type": "error",
     "traceback": [
      "\u001b[0;31m---------------------------------------------------------------------------\u001b[0m",
      "\u001b[0;31mModuleNotFoundError\u001b[0m                       Traceback (most recent call last)",
      "\u001b[0;32m<ipython-input-39-266838277ea0>\u001b[0m in \u001b[0;36m<module>\u001b[0;34m\u001b[0m\n\u001b[0;32m----> 1\u001b[0;31m \u001b[0;32mimport\u001b[0m \u001b[0mitemit\u001b[0m\u001b[0;34m\u001b[0m\u001b[0;34m\u001b[0m\u001b[0m\n\u001b[0m\u001b[1;32m      2\u001b[0m \u001b[0mget_ipython\u001b[0m\u001b[0;34m(\u001b[0m\u001b[0;34m)\u001b[0m\u001b[0;34m.\u001b[0m\u001b[0mrun_line_magic\u001b[0m\u001b[0;34m(\u001b[0m\u001b[0;34m'itemit'\u001b[0m\u001b[0;34m,\u001b[0m \u001b[0;34m'md1()'\u001b[0m\u001b[0;34m)\u001b[0m\u001b[0;34m\u001b[0m\u001b[0;34m\u001b[0m\u001b[0m\n\u001b[1;32m      3\u001b[0m \u001b[0mget_ipython\u001b[0m\u001b[0;34m(\u001b[0m\u001b[0;34m)\u001b[0m\u001b[0;34m.\u001b[0m\u001b[0mrun_line_magic\u001b[0m\u001b[0;34m(\u001b[0m\u001b[0;34m'itemit'\u001b[0m\u001b[0;34m,\u001b[0m \u001b[0;34m'md2()'\u001b[0m\u001b[0;34m)\u001b[0m\u001b[0;34m\u001b[0m\u001b[0;34m\u001b[0m\u001b[0m\n\u001b[1;32m      4\u001b[0m \u001b[0mget_ipython\u001b[0m\u001b[0;34m(\u001b[0m\u001b[0;34m)\u001b[0m\u001b[0;34m.\u001b[0m\u001b[0mrun_line_magic\u001b[0m\u001b[0;34m(\u001b[0m\u001b[0;34m'itemit'\u001b[0m\u001b[0;34m,\u001b[0m \u001b[0;34m'md3()'\u001b[0m\u001b[0;34m)\u001b[0m\u001b[0;34m\u001b[0m\u001b[0;34m\u001b[0m\u001b[0m\n\u001b[1;32m      5\u001b[0m \u001b[0mget_ipython\u001b[0m\u001b[0;34m(\u001b[0m\u001b[0;34m)\u001b[0m\u001b[0;34m.\u001b[0m\u001b[0mrun_line_magic\u001b[0m\u001b[0;34m(\u001b[0m\u001b[0;34m'itemit'\u001b[0m\u001b[0;34m,\u001b[0m \u001b[0;34m'md4()'\u001b[0m\u001b[0;34m)\u001b[0m\u001b[0;34m\u001b[0m\u001b[0;34m\u001b[0m\u001b[0m\n",
      "\u001b[0;31mModuleNotFoundError\u001b[0m: No module named 'itemit'"
     ]
    }
   ],
   "source": [
    "\n",
    "%timeit md1()\n",
    "%timeit md2()\n",
    "%timeit md3()\n",
    "%timeit md4()\n"
   ]
  },
  {
   "cell_type": "code",
   "execution_count": null,
   "id": "8b6ba162-9dc4-4d0f-af26-e2dc1fa7170d",
   "metadata": {},
   "outputs": [],
   "source": []
  }
 ],
 "metadata": {
  "kernelspec": {
   "display_name": "Python 3",
   "language": "python",
   "name": "python3"
  },
  "language_info": {
   "codemirror_mode": {
    "name": "ipython",
    "version": 3
   },
   "file_extension": ".py",
   "mimetype": "text/x-python",
   "name": "python",
   "nbconvert_exporter": "python",
   "pygments_lexer": "ipython3",
   "version": "3.9.5"
  }
 },
 "nbformat": 4,
 "nbformat_minor": 5
}
